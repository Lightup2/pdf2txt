{
 "cells": [
  {
   "cell_type": "code",
   "execution_count": 1,
   "metadata": {},
   "outputs": [],
   "source": [
    "import os\n",
    "import PyPDF2\n",
    "import multiprocessing as mp"
   ]
  },
  {
   "cell_type": "code",
   "execution_count": 3,
   "metadata": {},
   "outputs": [
    {
     "name": "stdout",
     "output_type": "stream",
     "text": [
      "2015年年度报告\n",
      "2016年年度报告\n",
      "2017年年度报告\n",
      "2018年年度报告\n",
      "2019年年度报告（更新后）\n",
      "ST八菱：2020年年度报告（更新后）\n",
      "ST辅仁：2019年年度报告\n",
      "辅仁药业：2015年年度报告\n",
      "辅仁药业：2016年年度报告\n",
      "辅仁药业：2017年年度报告\n",
      "辅仁药业：2018年年度报告\n",
      "扫描全能王\n"
     ]
    }
   ],
   "source": [
    "path = \"E:/pdf2txt/提取txt - 副本/\"\n",
    "path_result = \"E:/pdf2txt/完成txt/\"\n",
    "os.chdir(path)#os.chdir() 方法用于改变当前工作目录到指定的路径\n",
    "dirlist = os.listdir(path)\n",
    "for p in dirlist:\n",
    "    path2 = path+p\n",
    "    dirlist2 = os.listdir(path2)\n",
    "    for j in dirlist2:\n",
    "        k = j.split('.')[0]\n",
    "        print(k)"
   ]
  },
  {
   "cell_type": "code",
   "execution_count": 7,
   "metadata": {},
   "outputs": [],
   "source": [
    "def dir_pdf2txt(dir_name):\n",
    "    path_new = path+dir_name\n",
    "    dirlist = os.listdir(path_new)\n",
    "    file_path = path_result + dir_name\n",
    "    os.mkdir(file_path)  \n",
    "    for j in dirlist:\n",
    "        k = j.split('.')[0]\n",
    "        pdf_filename = path+dir_name+\"/\"+k + '.pdf'\n",
    "        txt_filename = path_result+dir_name+\"/\"+k + '.txt'\n",
    "        with open(pdf_filename, 'rb') as pdfFileObj:\n",
    "            pdfReader = PyPDF2.PdfReader(pdfFileObj)\n",
    "            x=pdfReader.numPages\n",
    "            with open(txt_filename,\"a\",encoding='utf-16') as file1:\n",
    "                for i in range(x):\n",
    "                    pageobj=pdfReader.pages[i]\n",
    "                    text=pageobj.extract_text()\n",
    "                    file1.writelines(text)"
   ]
  },
  {
   "cell_type": "code",
   "execution_count": 8,
   "metadata": {},
   "outputs": [],
   "source": [
    "dir_pdf2txt(dirlist[1])"
   ]
  },
  {
   "cell_type": "code",
   "execution_count": 4,
   "metadata": {},
   "outputs": [],
   "source": [
    "if __name__==\"__main__\":\n",
    "    with mp.Pool() as par:\n",
    "        par.map(dir_pdf2txt,dirlist) "
   ]
  }
 ],
 "metadata": {
  "kernelspec": {
   "display_name": "Python 3.10.5 64-bit",
   "language": "python",
   "name": "python3"
  },
  "language_info": {
   "codemirror_mode": {
    "name": "ipython",
    "version": 3
   },
   "file_extension": ".py",
   "mimetype": "text/x-python",
   "name": "python",
   "nbconvert_exporter": "python",
   "pygments_lexer": "ipython3",
   "version": "3.10.5"
  },
  "orig_nbformat": 4,
  "vscode": {
   "interpreter": {
    "hash": "718dc50a5c2c386ac871e97a99984a691c5b52b45844b37e856db88b966f3a50"
   }
  }
 },
 "nbformat": 4,
 "nbformat_minor": 2
}
