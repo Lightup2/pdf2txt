{
 "cells": [
  {
   "cell_type": "code",
   "execution_count": 2,
   "metadata": {},
   "outputs": [],
   "source": [
    "import csv\n",
    "from zipfile import ZipFile"
   ]
  },
  {
   "cell_type": "code",
   "execution_count": 3,
   "metadata": {},
   "outputs": [],
   "source": [
    "with open(\"提取异常文件及页码.csv\", \"rt\",encoding='utf-8') as csvfile:\n",
    "    reader = csv.reader(csvfile)\n",
    "    filelist = [row[0] for row in reader]\n",
    "filelist=list(set(filelist))"
   ]
  },
  {
   "cell_type": "code",
   "execution_count": 4,
   "metadata": {},
   "outputs": [],
   "source": [
    "with ZipFile('extract_error_pdf.zip', 'w') as zipobj:\n",
    "   # Add multiple files to the zip\n",
    "   for file in filelist:\n",
    "        zipobj.write(file)"
   ]
  }
 ],
 "metadata": {
  "kernelspec": {
   "display_name": "Python 3.10.5 64-bit",
   "language": "python",
   "name": "python3"
  },
  "language_info": {
   "name": "python",
   "version": "3.10.5"
  },
  "orig_nbformat": 4,
  "vscode": {
   "interpreter": {
    "hash": "718dc50a5c2c386ac871e97a99984a691c5b52b45844b37e856db88b966f3a50"
   }
  }
 },
 "nbformat": 4,
 "nbformat_minor": 2
}
